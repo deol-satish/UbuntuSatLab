{
 "cells": [
  {
   "cell_type": "code",
   "execution_count": null,
   "id": "3742b8f0",
   "metadata": {},
   "outputs": [],
   "source": [
    "import subprocess\n",
    "import os\n",
    "import numpy as np\n",
    "import matplotlib.pyplot as plt\n",
    "import time"
   ]
  },
  {
   "cell_type": "code",
   "execution_count": null,
   "id": "e237550f",
   "metadata": {},
   "outputs": [],
   "source": [
    "saved_folder = './data'\n",
    "episode_index = 399"
   ]
  },
  {
   "cell_type": "code",
   "execution_count": null,
   "id": "4adf86fa",
   "metadata": {},
   "outputs": [],
   "source": [
    "# Load baseline data\n",
    "Thrpt_baseline = np.load(f'{saved_folder}/Baseline_Thrpt.npy')     # (20, 61)\n",
    "SINR_baseline = np.load(f'{saved_folder}/Baseline_SINR.npy')       # (20, 61)\n",
    "Intf_baseline = np.load(f'{saved_folder}/Baseline_Intf.npy')       # (20, 61)\n",
    "SE_baseline = np.load(f'{saved_folder}/Baseline_SE.npy')       # (20, 61)\n",
    "berQPSK_baseline = np.load(f'{saved_folder}/Baseline_berQPSK.npy')\n",
    "berMQAM_baseline = np.load(f'{saved_folder}/Baseline_berMQAM.npy')\n",
    "\n",
    "Lat_baseline = np.load(f'{saved_folder}/Baseline_Lat.npy')\n",
    "\n",
    "# Load best episode data\n",
    "Thrpt_best = np.load(f'{saved_folder}/Episode_{episode_index}_Thrpt.npy')\n",
    "SINR_best = np.load(f'{saved_folder}/Episode_{episode_index}_SINR.npy')\n",
    "Intf_best = np.load(f'{saved_folder}/Episode_{episode_index}_Intf.npy')\n",
    "SE_best = np.load(f'{saved_folder}/Episode_{episode_index}_SE.npy')  # Newly added\n",
    "berQPSK_best = np.load(f'{saved_folder}/Episode_{episode_index}_berQPSK.npy')\n",
    "berMQAM_best = np.load(f'{saved_folder}/Episode_{episode_index}_berMQAM.npy')"
   ]
  },
  {
   "cell_type": "code",
   "execution_count": null,
   "id": "902a1982",
   "metadata": {},
   "outputs": [],
   "source": [
    "print(np.median(Thrpt_baseline[0,:]))\n",
    "print(np.median(Thrpt_baseline[1,:]))"
   ]
  },
  {
   "cell_type": "code",
   "execution_count": null,
   "id": "59569780",
   "metadata": {},
   "outputs": [],
   "source": [
    "print(np.median(Thrpt_best[0,:]))\n",
    "print(np.median(Thrpt_best[1,:]))"
   ]
  },
  {
   "cell_type": "code",
   "execution_count": null,
   "id": "02d30105",
   "metadata": {},
   "outputs": [],
   "source": [
    "for i in range(20):\n",
    "    print(\"\")\n",
    "    print(\"*\"*30)\n",
    "\n",
    "    print(\"i: \",i)\n",
    "\n",
    "    print(np.median(berQPSK_baseline[:i,:]))\n",
    "    print(np.median(berMQAM_baseline[:i,:]))\n",
    "\n",
    "    print(np.median(berQPSK_best[:i,:]))\n",
    "    print(np.median(berMQAM_best[:i,:]))\n",
    "    print(\"*\"*30)\n",
    "    print(\"\")\n"
   ]
  },
  {
   "cell_type": "code",
   "execution_count": null,
   "id": "7cb7ae9d",
   "metadata": {},
   "outputs": [],
   "source": []
  },
  {
   "cell_type": "code",
   "execution_count": null,
   "id": "c876cd6d",
   "metadata": {},
   "outputs": [],
   "source": [
    "for i in range(1, 3):\n",
    "    print(f\"\\n{'='*40}\")\n",
    "    print(f\"Results for First {i} Sample(s)\")\n",
    "    print(f\"{'='*40}\\n\")\n",
    "\n",
    "    print(f\"[BER - Baseline]\")\n",
    "    print(f\"QPSK Median: {np.median(berQPSK_baseline[:i, :])}\")\n",
    "    print(f\"MQAM Median: {np.median(berMQAM_baseline[:i, :])}\\n\")\n",
    "\n",
    "    print(f\"[BER - Best]\")\n",
    "    print(f\"QPSK Median: {np.median(berQPSK_best[:i, :])}\")\n",
    "    print(f\"MQAM Median: {np.median(berMQAM_best[:i, :])}\\n\")\n",
    "\n",
    "    print(f\"[Throughput]\")\n",
    "    print(f\"Baseline Median: {np.median(Thrpt_baseline[:i, :])}\")\n",
    "    print(f\"Best Median:     {np.median(Thrpt_best[:i, :])}\\n\")\n",
    "\n",
    "    print(f\"[Latency - Baseline]\")\n",
    "    print(f\"Median: {np.median(Lat_baseline[:i, :])*1000}\")\n"
   ]
  },
  {
   "cell_type": "code",
   "execution_count": null,
   "id": "22862bde",
   "metadata": {},
   "outputs": [],
   "source": [
    "for i in range(1, 3):\n",
    "    print(f\"\\n{'='*40}\")\n",
    "    print(f\"Results for First {i} Sample(s)\")\n",
    "    print(f\"{'='*40}\\n\")\n",
    "\n",
    "    print(f\"[BER - Baseline]\")\n",
    "    print(f\"QPSK mean: {np.mean(berQPSK_baseline[:i, :])}\")\n",
    "    print(f\"MQAM mean: {np.mean(berMQAM_baseline[:i, :])}\\n\")\n",
    "\n",
    "    print(f\"[BER - Best]\")\n",
    "    print(f\"QPSK mean: {np.mean(berQPSK_best[:i, :])}\")\n",
    "    print(f\"MQAM mean: {np.mean(berMQAM_best[:i, :])}\\n\")\n",
    "\n",
    "    print(f\"[Throughput]\")\n",
    "    print(f\"Baseline mean: {np.mean(Thrpt_baseline[:i, :])}\")\n",
    "    print(f\"Best mean:     {np.mean(Thrpt_best[:i, :])}\\n\")\n",
    "\n",
    "    print(f\"[Latency - Baseline]\")\n",
    "    print(f\"mean: {np.mean(Lat_baseline[:i, :])*1000}\")\n"
   ]
  },
  {
   "cell_type": "code",
   "execution_count": null,
   "id": "ff1ce55f",
   "metadata": {},
   "outputs": [],
   "source": [
    "print(np.mean(berQPSK_best))\n",
    "print(np.mean(berMQAM_best))"
   ]
  },
  {
   "cell_type": "code",
   "execution_count": null,
   "id": "e21ab3c2",
   "metadata": {},
   "outputs": [],
   "source": [
    "import numpy as np\n",
    "import pandas as pd\n",
    "\n",
    "# Assume you have already loaded the following arrays as in your script\n",
    "# Thrpt_best, SINR_best, Intf_best, SE_best, berQPSK_best, berMQAM_best, Lat_baseline\n",
    "# Each has shape (20, 61) for ground stations and timesteps\n",
    "\n",
    "# Time column based on 30-second intervals starting from a given datetime\n",
    "from datetime import datetime, timedelta\n",
    "start_time = datetime.strptime('10-Apr-2025 12:00:00', '%d-%b-%Y %H:%M:%S')\n",
    "time_steps = [start_time + timedelta(seconds=30 * i) for i in range(61)]\n",
    "time_str = [t.strftime('%d-%b-%Y %H:%M:%S') for t in time_steps]\n",
    "\n",
    "# Prepare DataFrame rows\n",
    "rows = []\n",
    "for t in range(61):\n",
    "    row = [time_str[t]]\n",
    "    \n",
    "    for station in [0, 1]:  # Sydney = 0, Melbourne = 1\n",
    "        sat_id = 'LEO35'  # Placeholder, replace with actual satellite ID if available\n",
    "        snr = SINR_best[station, t]\n",
    "        rssi = Intf_best[station, t]\n",
    "        thrpt = Thrpt_best[station, t]\n",
    "        ber_mqam = berMQAM_best[station, t]\n",
    "        ber_qpsk = berQPSK_best[station, t]\n",
    "        latency = Lat_baseline[station, t] * 1000  # Assuming you want baseline latency\n",
    "\n",
    "        row.extend([sat_id, snr, rssi, thrpt, ber_mqam, ber_qpsk, latency])\n",
    "    \n",
    "    rows.append(row)\n",
    "\n",
    "# Define column names\n",
    "columns = ['Time']\n",
    "for prefix in ['Sydney', 'Melbourne']:\n",
    "    columns.extend([\n",
    "        f'{prefix}_Best_SAT_ID',\n",
    "        f'{prefix}_Best_SNR',\n",
    "        f'{prefix}_Best_RSSI',\n",
    "        f'{prefix}_Best_Thrpt',\n",
    "        f'{prefix}_Best_BER_MQAM',\n",
    "        f'{prefix}_Best_BER_QPSK',\n",
    "        f'{prefix}_Best_Latency'\n",
    "    ])\n",
    "\n",
    "# Create DataFrame and export to CSV\n",
    "df = pd.DataFrame(rows, columns=columns)\n",
    "df.to_csv('Best_Satellite_Australia_Simulation_Log_cleaned_starlink_downlink.csv', index=False)\n"
   ]
  },
  {
   "cell_type": "code",
   "execution_count": null,
   "id": "81d423ec",
   "metadata": {},
   "outputs": [],
   "source": [
    "# Prepare DataFrame rows for baseline data\n",
    "rows_baseline = []\n",
    "for t in range(61):\n",
    "    row = [time_str[t]]\n",
    "    \n",
    "    for station in [0, 1]:  # Sydney = 0, Melbourne = 1\n",
    "        sat_id = 'LEO35'  # Placeholder, replace with actual satellite ID if available\n",
    "        snr = SINR_baseline[station, t]\n",
    "        rssi = Intf_baseline[station, t]\n",
    "        thrpt = Thrpt_baseline[station, t]\n",
    "        ber_mqam = berMQAM_baseline[station, t]\n",
    "        ber_qpsk = berQPSK_baseline[station, t]\n",
    "        latency = Lat_baseline[station, t] * 1000\n",
    "\n",
    "        row.extend([sat_id, snr, rssi, thrpt, ber_mqam, ber_qpsk, latency])\n",
    "    \n",
    "    rows_baseline.append(row)\n",
    "\n",
    "# Define column names for baseline\n",
    "columns_baseline = ['Time']\n",
    "for prefix in ['Sydney', 'Melbourne']:\n",
    "    columns_baseline.extend([\n",
    "        f'{prefix}_Baseline_SAT_ID',\n",
    "        f'{prefix}_Baseline_SNR',\n",
    "        f'{prefix}_Baseline_RSSI',\n",
    "        f'{prefix}_Baseline_Thrpt',\n",
    "        f'{prefix}_Baseline_BER_MQAM',\n",
    "        f'{prefix}_Baseline_BER_QPSK',\n",
    "        f'{prefix}_Baseline_Latency'\n",
    "    ])\n",
    "\n",
    "# Create DataFrame and export to CSV\n",
    "df_baseline = pd.DataFrame(rows_baseline, columns=columns_baseline)\n",
    "df_baseline.to_csv('Baseline_Satellite_Australia_Simulation_Log_cleaned_starlink_downlink.csv', index=False)\n"
   ]
  }
 ],
 "metadata": {
  "kernelspec": {
   "display_name": "base",
   "language": "python",
   "name": "python3"
  },
  "language_info": {
   "codemirror_mode": {
    "name": "ipython",
    "version": 3
   },
   "file_extension": ".py",
   "mimetype": "text/x-python",
   "name": "python",
   "nbconvert_exporter": "python",
   "pygments_lexer": "ipython3",
   "version": "3.13.5"
  }
 },
 "nbformat": 4,
 "nbformat_minor": 5
}
