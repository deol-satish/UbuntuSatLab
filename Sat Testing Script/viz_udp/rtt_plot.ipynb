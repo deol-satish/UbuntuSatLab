{
 "cells": [
  {
   "cell_type": "code",
   "execution_count": null,
   "id": "a9b12bec",
   "metadata": {},
   "outputs": [],
   "source": [
    "import json\n",
    "import numpy as np\n",
    "import matplotlib.pyplot as plt\n",
    "from utils.udp_util import extract_udp_prague_to_dataframe\n",
    "from utils.plotter import  plot_siftr_graph\n",
    "from utils.util import extract_iperf3_data_df, find_files_by_folder\n",
    "from datetime import datetime"
   ]
  },
  {
   "cell_type": "code",
   "execution_count": null,
   "id": "fd988f67",
   "metadata": {},
   "outputs": [],
   "source": [
    "import os\n",
    "\n",
    "\n",
    "\n",
    "# Usage example\n",
    "root_folder = \"../data\"\n",
    "file_extensions = [\".json\"]  # Add whatever extensions you want\n",
    "\n",
    "files_dict = find_files_by_folder(root_folder, file_extensions)\n",
    "print(files_dict)\n"
   ]
  },
  {
   "cell_type": "code",
   "execution_count": null,
   "id": "2e355e32",
   "metadata": {},
   "outputs": [],
   "source": [
    "files_dict.keys()"
   ]
  },
  {
   "cell_type": "code",
   "execution_count": null,
   "id": "36b0b2a8",
   "metadata": {},
   "outputs": [],
   "source": [
    "from utils.util import create_directory_if_not_exists\n",
    "import os\n",
    "graph_directory = os.path.join(\"./\", \"Graphs\")\n",
    "create_directory_if_not_exists(graph_directory)"
   ]
  },
  {
   "cell_type": "code",
   "execution_count": null,
   "id": "69b786ec",
   "metadata": {},
   "outputs": [],
   "source": [
    "def extract_latest_by_type(files_dict):\n",
    "    best = None\n",
    "    best_time = None\n",
    "    baseline = None\n",
    "    baseline_time = None\n",
    "\n",
    "    for key in files_dict:\n",
    "        # Extract timestamp and type\n",
    "        *_, timestamp_str, tag = key.split('_')\n",
    "        timestamp = datetime.strptime(timestamp_str, \"%Y-%m-%d-%H-%M-%S\")\n",
    "\n",
    "        if tag == 'best' and (best_time is None or timestamp > best_time):\n",
    "            best_time = timestamp\n",
    "            best = key\n",
    "        elif tag == 'baseline' and (baseline_time is None or timestamp > baseline_time):\n",
    "            baseline_time = timestamp\n",
    "            baseline = key\n",
    "\n",
    "    return {\n",
    "        'DRL_allocation': files_dict[best] if best else {},\n",
    "        'Random_allocation': files_dict[baseline] if baseline else {}\n",
    "    }\n",
    "\n",
    "# Usage\n",
    "latest_folders = extract_latest_by_type(files_dict)"
   ]
  },
  {
   "cell_type": "code",
   "execution_count": null,
   "id": "b0b88df4",
   "metadata": {},
   "outputs": [],
   "source": [
    "latest_folders"
   ]
  },
  {
   "cell_type": "code",
   "execution_count": null,
   "id": "7bde3ae7",
   "metadata": {},
   "outputs": [],
   "source": [
    "latest_folders['DRL_allocation']"
   ]
  },
  {
   "cell_type": "code",
   "execution_count": null,
   "id": "61f941fc",
   "metadata": {},
   "outputs": [],
   "source": [
    "latest_folders['Random_allocation']"
   ]
  },
  {
   "cell_type": "code",
   "execution_count": null,
   "id": "24234ff0",
   "metadata": {},
   "outputs": [],
   "source": []
  },
  {
   "cell_type": "code",
   "execution_count": null,
   "id": "57df15cb",
   "metadata": {},
   "outputs": [],
   "source": [
    "paths = {\n",
    "    \"Cubic - DRL_allocation \":extract_iperf3_data_df(latest_folders['DRL_allocation'][0]),\n",
    "    \"L4S - DRL_allocation \":extract_udp_prague_to_dataframe(latest_folders['DRL_allocation'][2]),\n",
    "    \"Cubic - Random_allocation \":extract_iperf3_data_df(latest_folders['Random_allocation'][0]),\n",
    "    \"L4S - Random_allocation \":extract_udp_prague_to_dataframe(latest_folders['Random_allocation'][2]),\n",
    "}\n",
    "\n",
    "\n",
    "scenario = str(\"RTT_UDPPraguevsCubic\")\n",
    "plot_siftr_graph(paths=paths,\n",
    "                ycolumn=\"SmoothedRTT\",\n",
    "                title=f\"{scenario} SmoothedRTT\",\n",
    "                xlabel=\"Time (s)\",\n",
    "                ylabel=\"SmoothedRTT (ms)\",\n",
    "                filename=f'{scenario}',\n",
    "                graph_directory=graph_directory,\n",
    ")\n",
    "\n",
    "scenario = str(\"Thrpt_UDPPraguevsCubic\")\n",
    "plot_siftr_graph(paths=paths,\n",
    "                ycolumn=\"thrpt\",\n",
    "                title=f\"{scenario} Throuhghput\",\n",
    "                xlabel=\"Time (s)\",\n",
    "                ylabel=\"Throuhghput (mbps)\",\n",
    "                filename=f'{scenario}',\n",
    "                graph_directory=graph_directory,\n",
    ")\n",
    "\n",
    "\n",
    "scenario = str(\"PktLoss_UDPPraguevsCubic\")\n",
    "plot_siftr_graph(paths=paths,\n",
    "                ycolumn=\"Lost_Packets\",\n",
    "                title=f\"{scenario} Packet Loss\",\n",
    "                xlabel=\"Time (s)\",\n",
    "                ylabel=\"Packet Loss\",\n",
    "                filename=f'{scenario}',\n",
    "                graph_directory=graph_directory,\n",
    ")"
   ]
  },
  {
   "cell_type": "code",
   "execution_count": null,
   "id": "d4b00ecf",
   "metadata": {},
   "outputs": [],
   "source": [
    "# for folder_name, files in files_dict.items():\n",
    "#     print(f\"Folder: {folder_name}\")\n",
    "#     # for file in files:\n",
    "#     #     print(f\"  - {file}\")\n",
    "\n",
    "#     file_udp = files[2]\n",
    "#     file_cubic = files[0]\n",
    "\n",
    "#     # print(\"file_cubic\",file_cubic)\n",
    "#     # print(\"file_udp\",file_udp)\n",
    "#     tfcubic = extract_iperf3_data_df(file_cubic)\n",
    "#     utf = extract_udp_prague_to_dataframe(file_udp)\n",
    "\n",
    "\n",
    "\n",
    "\n",
    "\n",
    "#     # Define paths\n",
    "#     paths = {\n",
    "#         \"Cubic\": tfcubic,\n",
    "#         \"L4S\": utf,\n",
    "#         # \"Bandwidth\": baseline_throuhgput_df\n",
    "#     }\n",
    "\n",
    "    \n",
    "\n",
    "\n",
    "#     scenario = str(\"RTT_UDPPraguevsCubic\")\n",
    "#     plot_siftr_graph(paths=paths,\n",
    "#                     ycolumn=\"SmoothedRTT\",\n",
    "#                     title=f\"{scenario} SmoothedRTT\",\n",
    "#                     xlabel=\"Time (s)\",\n",
    "#                     ylabel=\"SmoothedRTT (ms)\",\n",
    "#                     filename=f'{scenario}',\n",
    "#                     graph_directory=graph_directory,\n",
    "#     )\n",
    "\n",
    "#     scenario = str(\"Thrpt_UDPPraguevsCubic\")\n",
    "#     plot_siftr_graph(paths=paths,\n",
    "#                     ycolumn=\"thrpt\",\n",
    "#                     title=f\"{scenario} Throuhghput\",\n",
    "#                     xlabel=\"Time (s)\",\n",
    "#                     ylabel=\"Throuhghput (mbps)\",\n",
    "#                     filename=f'{scenario}',\n",
    "#                     graph_directory=graph_directory,\n",
    "#     )\n",
    "\n",
    "\n",
    "#     scenario = str(\"PktLoss_UDPPraguevsCubic\")\n",
    "#     plot_siftr_graph(paths=paths,\n",
    "#                     ycolumn=\"Lost_Packets\",\n",
    "#                     title=f\"{scenario} Packet Loss\",\n",
    "#                     xlabel=\"Time (s)\",\n",
    "#                     ylabel=\"Packet Loss\",\n",
    "#                     filename=f'{scenario}',\n",
    "#                     graph_directory=graph_directory,\n",
    "#     )\n",
    "\n"
   ]
  }
 ],
 "metadata": {
  "kernelspec": {
   "display_name": "base",
   "language": "python",
   "name": "python3"
  },
  "language_info": {
   "codemirror_mode": {
    "name": "ipython",
    "version": 3
   },
   "file_extension": ".py",
   "mimetype": "text/x-python",
   "name": "python",
   "nbconvert_exporter": "python",
   "pygments_lexer": "ipython3",
   "version": "3.13.5"
  }
 },
 "nbformat": 4,
 "nbformat_minor": 5
}
